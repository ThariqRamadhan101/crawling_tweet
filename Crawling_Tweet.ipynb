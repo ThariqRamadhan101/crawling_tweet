{
  "nbformat": 4,
  "nbformat_minor": 0,
  "metadata": {
    "colab": {
      "name": "Crawling_Tweet",
      "provenance": []
    },
    "kernelspec": {
      "name": "python3",
      "display_name": "Python 3"
    }
  },
  "cells": [
    {
      "cell_type": "markdown",
      "metadata": {
        "id": "8EnrCvyI5SO-",
        "colab_type": "text"
      },
      "source": [
        "# Crawling Tweet with GetOldTweet3 \n",
        "\n",
        "This python notebook is for crawling old tweet and then save it in csv file."
      ]
    },
    {
      "cell_type": "markdown",
      "metadata": {
        "id": "lp1pXWPj6D73",
        "colab_type": "text"
      },
      "source": [
        "Install GetOldTweet3."
      ]
    },
    {
      "cell_type": "code",
      "metadata": {
        "id": "DulIoO5m5M-m",
        "colab_type": "code",
        "outputId": "c2ba55de-2c49-4ce0-d2e2-a94ea90cd04d",
        "colab": {
          "base_uri": "https://localhost:8080/",
          "height": 202
        }
      },
      "source": [
        "!pip install GetOldTweets3"
      ],
      "execution_count": 1,
      "outputs": [
        {
          "output_type": "stream",
          "text": [
            "Collecting GetOldTweets3\n",
            "  Downloading https://files.pythonhosted.org/packages/ed/f4/a00c2a7c90801abc875325bb5416ce9090ac86d06a00cc887131bd73ba45/GetOldTweets3-0.0.11-py3-none-any.whl\n",
            "Requirement already satisfied: lxml>=3.5.0 in /usr/local/lib/python3.6/dist-packages (from GetOldTweets3) (4.2.6)\n",
            "Collecting pyquery>=1.2.10\n",
            "  Downloading https://files.pythonhosted.org/packages/78/43/95d42e386c61cb639d1a0b94f0c0b9f0b7d6b981ad3c043a836c8b5bc68b/pyquery-1.4.1-py2.py3-none-any.whl\n",
            "Collecting cssselect>0.7.9\n",
            "  Downloading https://files.pythonhosted.org/packages/3b/d4/3b5c17f00cce85b9a1e6f91096e1cc8e8ede2e1be8e96b87ce1ed09e92c5/cssselect-1.1.0-py2.py3-none-any.whl\n",
            "Installing collected packages: cssselect, pyquery, GetOldTweets3\n",
            "Successfully installed GetOldTweets3-0.0.11 cssselect-1.1.0 pyquery-1.4.1\n"
          ],
          "name": "stdout"
        }
      ]
    },
    {
      "cell_type": "markdown",
      "metadata": {
        "id": "kLkANz2O6OzL",
        "colab_type": "text"
      },
      "source": [
        "Import library."
      ]
    },
    {
      "cell_type": "code",
      "metadata": {
        "id": "bqQWbAWq6Srv",
        "colab_type": "code",
        "colab": {}
      },
      "source": [
        "import GetOldTweets3 as got3\n",
        "import csv"
      ],
      "execution_count": 0,
      "outputs": []
    },
    {
      "cell_type": "markdown",
      "metadata": {
        "id": "cwcC-bjY6rik",
        "colab_type": "text"
      },
      "source": [
        "Make new file and then prepare to write on it."
      ]
    },
    {
      "cell_type": "code",
      "metadata": {
        "id": "8Y1hPCdi7HOe",
        "colab_type": "code",
        "colab": {}
      },
      "source": [
        "csvFile = open('crawling_tweet.csv', 'a')\n",
        "csvWriter = csv.writer(csvFile)"
      ],
      "execution_count": 0,
      "outputs": []
    },
    {
      "cell_type": "markdown",
      "metadata": {
        "id": "Lkxljwin7WKc",
        "colab_type": "text"
      },
      "source": [
        "Define variable."
      ]
    },
    {
      "cell_type": "code",
      "metadata": {
        "id": "XlAlZTAC7V0B",
        "colab_type": "code",
        "colab": {}
      },
      "source": [
        "until = \"2019-11-08\" \n",
        "keyword = \"cingkrang asn\"\n",
        "max_tweets = 200\n",
        "language = \"id\""
      ],
      "execution_count": 0,
      "outputs": []
    },
    {
      "cell_type": "markdown",
      "metadata": {
        "id": "3qJdijgk7fTR",
        "colab_type": "text"
      },
      "source": [
        "Crawling."
      ]
    },
    {
      "cell_type": "code",
      "metadata": {
        "id": "KtfYFjMB7epb",
        "colab_type": "code",
        "outputId": "6e97bde8-67a9-41d9-d745-3b862e426485",
        "colab": {
          "base_uri": "https://localhost:8080/",
          "height": 1000
        }
      },
      "source": [
        "tweetCriteria = got3.manager.TweetCriteria().setUntil(until).setQuerySearch(keyword).setMaxTweets(max_tweets).setLang(language)\n",
        "for i in range(max_tweets):\n",
        "  tweet = got3.manager.TweetManager.getTweets(tweetCriteria)[i]\n",
        "  print(tweet.date, tweet.text)\n",
        "  csvWriter.writerow([tweet.date, tweet.text])\n",
        "\n"
      ],
      "execution_count": 5,
      "outputs": [
        {
          "output_type": "stream",
          "text": [
            "2019-11-07 23:01:30+00:00 Tampil di ILC TV One, Pendiri STIBA Tanggapi Larangan ASN Bercadar dan Celana Cingkrang – Sekolah Tinggi Ilmu Islam dan Bahasa Arab (STIBA) Makassar http://stiba.ac.id/2019/11/06/tampil-di-ilc-tv-one-pendiri-stiba-tanggapi-larangan-asn-bercadar-dan-celana-cingkrang/\n",
            "2019-11-07 22:42:40+00:00 Ya terserah kamu saja wisnu... kamu kan bukan ASN... mau jenggot...mau cingkrang... mau crosshijaberpun kita gak peduli... karepmu\n",
            "2019-11-07 22:25:49+00:00 Cari makan di NKRI, pakai uang Rupiah, hidup di NKRI, ya TURUTI ATURAN NKRI. Bukan 'mendirikan negara khilaFUCK'. Jadi ASN kok pakai celana cingkrang - cadar. Pakailah celana cingkrang - cadar di LUAR institusi pemerintah NKRI. Citra baik agama Islam jadi jelek gara² kaum radikal\n",
            "2019-11-07 18:45:32+00:00 Harusnya ngga sih. Ngga substansif. Tp yg lagi disasar ini soal kepatuhan ASN kpd aturan negara. Kita liat aja issue cingkrang ASN mengarah ke mana\n",
            "2019-11-07 17:21:39+00:00 Sorry deh ya kepanasan, cm aneh aja cara berpikir nya yg gk bs menggunakan akal sehat, gak perlu jd seorang ASN untuk mengkritik kebijakan pemerintah? Ada aturan nya? Yg sewodd kan situ sndri kpanasan liat clana cingkrang?? Ap urgentcy jg sama andah?\n",
            "2019-11-07 15:58:23+00:00 Perihal cadar ma cingkrang nggak mau diatur. Giliran hotpants, baju dengan cleavage rendah, tatto, ngatur-ngatur. . Padahal wacana cadar ma cingkrang itu kan utk ASN. Udh pada ribet aje lu pada. Heran.\n",
            "2019-11-07 15:36:54+00:00 Saya sebagai rakyat saja blum sejahtera, ini malah mikir seragam, dinamakan rasa itu indonesia ku kini Warisan Belanda, Seragam PNS Tak Cocok, Sarung Maruf Amin dan Celana Cingkrang Jadi Baju Baru ASN? https://www.tribunnews.com/lifestyle/2019/11/06/warisan-belanda-seragam-pns-tak-cocok-sarung-maruf-amin-dan-celana-cingkrang-jadi-baju-baru-asn lewat @tribunnews\n",
            "2019-11-07 15:18:45+00:00 Deradikalisasi: ASN dilarang memakai celana cingkrang? Yaela cetek amat pikiran lo bung\n",
            "2019-11-07 15:17:17+00:00 Yg dilarang kan untuk asn... Orang kerja ikut aturan lah dimana2.. di masyarakat bebas mau cadar cingkrang dilindungi.. kl kerja ya ngikut ga cocok ga kerja\n",
            "2019-11-07 15:16:52+00:00 Disinggung Pelarangan Cadar dan Celana Cingkrang, Menag Tegaskan Hanya untuk ASN [News] #TauCepatTanpaBatas .\n",
            "2019-11-07 13:26:33+00:00 Itu hak negara. Karena cadar apakah layak di tempat publik, sebagai pelayan rakyat? Kalo ada tindak kejahatan di balik cadar elo yg tanggung? Kalo soal celana cingkrang, jika ASN boleh cingkrang, tentara perbolehkan cingkrang juga lah. Biar semakin amburadul negara ini.\n",
            "2019-11-07 11:51:03+00:00 Disinggung Pelarangan Cadar dan Celana Cingkrang, Menag Tegaskan Hanya untuk ASN #TauCepatTanpaBatas . https://muslim.okezone.com/read/2019/11/07/614/2127062/disinggung-pelarangan-cadar-dan-celana-cingkrang-menag-tegaskan-hanya-untuk-asn\n",
            "2019-11-07 11:42:59+00:00 Tampil di ILC TV One, Pendiri STIBA Tanggapi Larangan ASN Bercadar dan Celana Cingkrang – Sekolah Tinggi Ilmu Islam dan Bahasa Arab (STIBA) Makassar http://stiba.ac.id/2019/11/06/tampil-di-ilc-tv-one-pendiri-stiba-tanggapi-larangan-asn-bercadar-dan-celana-cingkrang/\n",
            "2019-11-07 11:28:11+00:00 Sebagai ASN yang baik, AlhamduLILLAAH celana cingkrang pertama saya produksi iwearzule akan tiba 13 November #iwearcingkrang\n",
            "2019-11-07 10:58:35+00:00 Kalo tentang rencana kebijakan pemerintah yg melarang ASN gimana mas? Yang lagi ngehits kan itu, ASN nya mas. Teuku Wisnu: Saya Berjenggot &amp; Bercelana Cingkrang, Alhamdulillah Baik \n",
            "2019-11-07 10:47:26+00:00 Menteri Agama Fachrul Razi membantah melarang ASN menggunakan cadar maupun celana cingkrang. Selain tidak ada aturan terkait hal tersebut, menurut Razi hal tersebut bukan wewenang Kementerian Agama. \n",
            "2019-11-07 10:34:01+00:00 @ArieKuntung mau pakai cingkrang, sobek, bahkan dia pakai cadar dan jubah, emang dipikirin?? Karena dia orang sipil. Kalo soal ASN itu biar negara yg buat aturan. ASN gak patuh, keluar aja, jadi WN sipil.\n",
            "2019-11-07 10:31:06+00:00 #WartaKBB : Soal Wacana ASN Dilarang Memakai Celana Cingkrang dan Cadar, Ini Kata Ketua DPRD KBB \n",
            "2019-11-07 10:15:05+00:00 Pakai Cadar dan Celana Cingkrang, Politikus NasDem: Keluar dari ASN https://sapiompong.me/pakai-cadar-dan-celana-cingkrang-politikus-nasdem-keluar-dari-asn/\n",
            "2019-11-07 09:39:05+00:00 Udah nonton ini,, kesimpulannya, negeri ini ajaib. Islam agama yang diakui di Indonesia, katanya,, tapi kenapa pemeluk agamanya dibatasi dalam menjalankan syariat agama? ASN lah ga boleh celana cingkrang, cadaran,, apa urusannya,,\n",
            "2019-11-07 09:00:55+00:00 Semua celana panjang kalo saya pake kok jadi cingkrang ya. Kalo mo daftar jadi asn masi boleh ga sih?\n",
            "2019-11-07 08:24:34+00:00 Goblok, saya juga cingkrang Blok, tapi sy bukan ASN..sy orang Paling baik Versi saya\n",
            "2019-11-07 08:20:28+00:00 Yth bp. @jokowi .kami Umat islam mayoritas tapi nggak pernah memaksa pemerintah melarang asn pake rok mini padahal itu bikin dosa muslim yg liat tapi knapa cadar dan celana cingkrang yg nggak ngganggu dilarang? Ini visi/misi mentri atau presiden?!?\n",
            "2019-11-07 07:23:30+00:00 Apa urusannya ama loe... Mau cingkrang... mau cungkring... ASN HARUS TAATI ATURAN.... You now prett\n",
            "2019-11-07 07:06:01+00:00 Ga nyambung neh Artis ..coba @detikcom tanya ASN yg pake cingkrang dong ahh.... \n",
            "2019-11-07 06:50:20+00:00 Teungku Wisnu bukan jadi ASN, tapi ditanya pendapat sebagai orang yang hijrah ngelakuin sunnahnya Rasul (celana cingkrang &amp; berjenggot) seumpama golongannya jadi ASN, ciiw :)\n",
            "2019-11-07 06:38:16+00:00 Menteri Agama Fachrul Razi meminta maaf atas pernyataannya yang menuai kontroversi di tengah masyarakat. Fachrul mewacanakan pelarangan penggunaan celana cingkrang dan cadar di kalangan Aparatur Sipil Negara (ASN). #duniaislam #iniwstudies\n",
            "2019-11-07 06:11:39+00:00 Yg dibahas kan ASN,gk minat bahas lo. Lagian Saya tidak takut,,Karena Saya juga parnah cingkrang,,tapi pas musim banjir saja. Teuku Wisnu: Saya Cingkrang, Masa Kamu Takut? - VIVA \n",
            "2019-11-07 05:59:50+00:00  perasaan yang bisa menilai baik tidaknya itu orang lain boss. Lagian ini untuk ASN. Emang anda ASN??? @EdyGypsum @abil_habibi @AmbarwatiRexy Teuku Wisnu: Saya Berjenggot &amp; Bercelana Cingkrang, Alhamdulillah Baik \n",
            "2019-11-07 05:53:27+00:00 Lagian Yg dibahas itu bukan soal janggut dan cingkrang ada hubungan dng baik atau alim tpi yg dibhas aturan berpakaian ASN.ASN yg mau cingkrang boleh asal bukan lagi pake pakaian dinas.\n",
            "2019-11-07 05:44:32+00:00 Massoooook....!! Gak nanya tuuhh Mau pakai cingkrang &amp; cadar itu hak siapapun, yg di bhs aturan ASN. Piknik yuuukk.. #ShutdownAnggaranSiluman https://m.detik.com/hot/celeb/d-4773624/teuku-wisnu-saya-berjenggot--bercelana-cingkrang-alhamdulillah-baik?tag_from=mnews_bacajuga&amp;_ga=2.160490232.478202111.1572331370-1329003838.1572331370#Echobox=1573038241\n",
            "2019-11-07 05:31:28+00:00 Di Kabupaten Gorontalo, ASN boleh Pakai Cadar dan Celana Cingkrang - http://60dtk.com\n",
            "2019-11-07 05:23:01+00:00 Berita ttg cadar & cingkrang msk larangan ranah ASN..slm hdupku lihat ASN bercadar &amp; cingkrang ga pernah lihat..hijab aja jarang \n",
            "2019-11-07 05:21:58+00:00 Yg dilarang itu ASN, itupun dilarangnya di wilayah kantor. Di luar itu ya bebas, mau pke cingkrang, mau pke cadar, mau ceplok seterah. Gitu aja gak ngerti!\n",
            "2019-11-07 04:19:34+00:00 itu kan hanya untuk kalangan ASN yang sedang bekerja.. kalau bukan ASN.. mau pakai celana cingkrang, celana pendek atau tidak pakai celana sekalipun terserah ente bro..\n",
            "2019-11-07 04:11:39+00:00 Kalau melarang cadar sih masuk akal juga untuk pencegahan teroris atau paham crosshijaber barang kali. Lha tapi kalau celana cingkrang? Tapi ya sudahlah lagi pula itu kan khusus ASN saja, kita sendiri juga nggak tahu lah taktik pemerintah secara rinci, berpikir positif saja.\n",
            "2019-11-07 04:06:47+00:00 @ArieKuntung Kalo goblog liat2 tempat tung, Yang dibahas asn, Kalau ga ada aturan, ntar asn boleh pake gamis ato bikini. Celana lo boleh cingkrang, otak lo jangan tung....\n",
            "2019-11-07 04:02:24+00:00 byk yg salah paham sama pernyataan menteri agama & asn dah tentang cingkrang &amp; cadar. Yg tdk diperbolehkan kan dikalangan ASN saat ssdang bekerja, diluar jam kerja mau cingkrang &amp; cadar itu bebas. Dan yg bukan ASN hak siapa saja mau pake cadar atau celana cingkrang.\n",
            "2019-11-07 03:52:05+00:00 Lagi riuh soal cadar dan cingkrang, padahal pemakai cadar dan cingkrang fine2 aja tuh.. Cuma bagi PNS/ASN di larang DI KANTOR krn ada aturannya.. Tpi kok banyak yg ngamukan, yg bukan PNS/ASN..lucu\n",
            "2019-11-07 03:42:02+00:00 Di Kabupaten Gorontalo, ASN boleh Pakai Cadar dan Celana Cingkrang - http://60dtk.com https://60dtk.com/di-kabupaten-gorontalo-asn-boleh-pakai-cadar-dan-celana-cingkrang/\n",
            "2019-11-07 03:38:11+00:00 Disini kadang orang engga pada paham yg dibahas larangan celana cingkrang itu hanya untuk mereka yg berkerja dikantor pemerintah @Kemenag_RI tidak melarang untuk semua ASN juga itu waktu dikantor saja setelah pulang kantor terserah\n",
            "2019-11-07 03:34:25+00:00 Wlo mau cingkrang mau jenggot selama bukan ASN ya terserah lo..\n",
            "2019-11-07 03:28:05+00:00 #kom8 Yandri @Fraksi_PAN #Banten2: Kami juga akan mengonfirmasi isu-isu aktual terkait celana cingkrang dan cadar di kalangan ASN, mohon ini Pak Menteri mengklarifikasinya dan terlalu dini untuk menyimpulkan celana cingkrang itu radikal.\n",
            "2019-11-07 02:59:13+00:00 Emang kalo ASN celana cingkrang kenapa?, Apakah ganggu kinerja seorang ASN.\n",
            "2019-11-07 02:59:11+00:00 Setuju bgt bli. Mau jengotan, mau bercadar, mau celana cingkrang, terserah. Tapi kali pegawai ASN dan tetap pada style paham keyakinannya, JANGAN JADI PNS/APARAT NEGARA!!! Karena negara, lembaga/instansi pemerintah punya standar dan aturan.\n",
            "2019-11-07 02:53:09+00:00 maksudnya orang yang berjenggot dan cingkrang itu baik, terlepas ASN atau bukan. klo pemerintah melarang ASN coba jelaskan alasannya\n",
            "2019-11-07 02:34:21+00:00 Yg di bicakan itu aturan seragam di ASN...lo mau cingkrang, jenggotan, niqob..gak ada masalah tong !!! Lo kan bukan ASN..susah amet sih mikirnya !!!\n",
            "2019-11-07 02:30:24+00:00 Cadar dan celana cingkrang boleh, kecuali seragam ASN \n",
            "2019-11-07 02:30:00+00:00 Cadar dan celana cingkrang boleh, kecuali seragam ASN \n",
            "2019-11-07 02:29:25+00:00 Setuju banget. Dan cari narsum yang mengerti permasalahannya. Point nya, ASN, Celana Cingkrang, Bewok, Cadar. Semoga membantu \n",
            "2019-11-07 02:29:11+00:00 Cadar dan celana cingkrang boleh, kecuali seragam ASN \n",
            "2019-11-07 02:27:59+00:00 Cadar dan celana cingkrang boleh, kecuali seragam ASN \n",
            "2019-11-07 02:27:24+00:00 Cadar dan celana cingkrang boleh, kecuali seragam ASN \n",
            "2019-11-07 02:19:03+00:00 Wasekjen MUI KH. Zaitun Rasmin Tanggapi Larangan ASN Pakai Cadar &amp; Celana Cingkrang || ILC (5/11/19) \n",
            "2019-11-07 02:17:28+00:00 Simak diyoutube agar paham. Menag tdk mearang jk cadar/cingkrang dipakai ditempat umum. Ia cuma anjurkan agar keamanan dilingkup instansi pemerinrah ditingkatkan&amp;jg utk kedisiplinan asn.jgn framing lbh dari itu! Narasi bantahan yandri susanto justru keluar substansi narasi menag! \n",
            "2019-11-07 02:06:21+00:00 Pa @mohmahfudmd seandainya... ada aturan ASN yg ber agama nasrani di larang memakai kalung salib... bukan kah ini melanggar hak asasi... dan tidak seharusnya da aturan yg melanggar HAM... Seperti hal nya aturan pelarangan celana cingkrang. Mengapa ada aturan yg melanggar ham\n",
            "2019-11-07 01:57:39+00:00 Selama ini gw belum tau tuh kalau Tengku wisnu jadi ASN. Kalau larangan bercadar dan celana cingkrang kan bagi ASN kan.\n",
            "2019-11-07 01:49:26+00:00 Knp dr sekian banyak narasumber& @karniilyas sendiri katakan MenteriAgama Melarang ASN pake celana cingkrang &amp; cadar,pdhal sdh berkali2 pemerintah mengatakan TDK melarang di luar jam kerja,yang DILARANG hny pd saat Jam Kerja saja,tp di forum ILC terus diGORENG2, ini FITNAH, HATI2\n",
            "2019-11-07 01:47:15+00:00 YANG DIBAHAS ITU PNS ATAU ASN , APARATUR NEGARA. ABRI DAN POLISI ..KALAU SAMPEYAN BEBAS BEBAS AJA. MAU CINGKRANG SEDENGKUL.. ITU URUSAN SAMPEYAN BRO. \n",
            "2019-11-07 01:34:59+00:00 Oiii....yg di larang memakai cadar/Celana cingkrang hanya TNI/Polri/ASN yg sdg berdinas, klw tdk dinas bebas pakai apa bae apalagi yg bkn TNI/Polri/ASN, tolong bersihkan Hati otak dan ucapan (akhlak) ngakunya Muslim.\n",
            "2019-11-07 00:47:02+00:00 Menyikapi pro kontra Pelarangan Pemakaian Celana Cingkrang dan Cadar bagi ASN, saya berpendapat begini : 1. Jika itu sudah aturan bagi organisasi kerja, ya dipatuhi saja. 2. Apa iya ALLAH akan mempersalahkan... https://www.facebook.com/1591246228/posts/10214129705548575/\n",
            "2019-11-07 00:33:27+00:00 Berjenggot+celana cingkrang+sifatbaik = kamu tidak boleh jadi ASN Tengku.\n",
            "2019-11-07 00:30:25+00:00 Daripada ngatur jenggot cingkrang cadar asn mending ngatur kinerja mereka gmana biar disiplin tinggi, punya keahlian mumpuni, ikhlas melayani masyarakat, dah gitu aja.\n",
            "2019-11-07 00:29:01+00:00 Kadang disikapinya terlalu gemana!? Klo ASN kekantor, cingkrangnya jgn dipake dulu cadarnya jgn dipake dulu klo udh dirumah kepasar kemana klo seneng cingkrang ya pake lagi udh ga usah jadi polemik,....\n",
            "2019-11-07 00:24:08+00:00 Lahh truss?? Asn bukan bagian dari masyarakat?? Truss dampak cadar cingkrang terhadap kinerja kerjanya apaa?? Gak penting untuk diurusin negara.. ASN itu bukan anak anak.. mau asn ataupun masyarakat sama2 mempunyai kesetaraan hak dlm berseragam maupun berpakaian\n",
            "2019-11-07 00:20:51+00:00 Pak sampaikan ke Menag. Kemenag bukan Militer. Jangan disamaain standard pakaian Militer dgn ASN terkhusus Cadar dan Cingkrang.\n",
            "2019-11-07 00:12:20+00:00 ASN yg pakai rok cingkrang kok nggak diurus? Otak sdh pada miring tidak adil sejak dalam pikiran kata Pramoedya \n",
            "2019-11-07 00:10:13+00:00 Oohh berarti pelarangan pake cadar dan celana cingkrang di asn radikal juga donk...\n",
            "2019-11-06 23:53:14+00:00 Wasekjen MUI KH. Zaitun Rasmin Tanggapi Larangan ASN Pakai Cadar &amp; Celana Cingkrang || ILC (5/11/19) \n",
            "2019-11-06 23:18:53+00:00 Yg lagi booming... RADIKAL_Radikul Cadar_Cingkrang ASN_BPJS Cangkul_Bakul (Bakul masih dlm proses,bentar lgi impor jga) Yg Smart...tetep Pak @aniesbaswedan \n",
            "2019-11-06 23:18:52+00:00 Yg sy tekankan adlh statemen pak mentri agama,jika tdk patuhi aturan/marwah pemerintah dlm hal seragam! sebaiknya asn yg memakai cadar/celana cingkrang pd saat jam dinas BERHENTI KERJA! undurkan diri saja.diluar jam kerja silahkan pakai. Pahami hak personal&amp;hak pemerintah!\n",
            "2019-11-06 23:02:34+00:00 ASN pun mau cingkrang ngak masalah asal sopan(diatas tumit) \n",
            "An error occured during an HTTP request: HTTP Error 429: Too Many Requests\n",
            "Try to open in browser: https://twitter.com/search?q=cingkrang%20asn%20until%3A2019-11-08&src=typd\n"
          ],
          "name": "stdout"
        },
        {
          "output_type": "error",
          "ename": "SystemExit",
          "evalue": "ignored",
          "traceback": [
            "An exception has occurred, use %tb to see the full traceback.\n",
            "\u001b[0;31mSystemExit\u001b[0m\n"
          ]
        },
        {
          "output_type": "stream",
          "text": [
            "/usr/local/lib/python3.6/dist-packages/IPython/core/interactiveshell.py:2890: UserWarning: To exit: use 'exit', 'quit', or Ctrl-D.\n",
            "  warn(\"To exit: use 'exit', 'quit', or Ctrl-D.\", stacklevel=1)\n"
          ],
          "name": "stderr"
        }
      ]
    }
  ]
}